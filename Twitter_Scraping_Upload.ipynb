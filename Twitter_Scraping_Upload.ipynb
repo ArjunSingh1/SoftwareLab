{
 "cells": [
  {
   "cell_type": "code",
   "execution_count": 22,
   "metadata": {},
   "outputs": [],
   "source": [
    "import twitter\n",
    "from os.path import isfile\n",
    "import pandas as pd\n",
    "from time import sleep"
   ]
  },
  {
   "cell_type": "code",
   "execution_count": 23,
   "metadata": {},
   "outputs": [],
   "source": [
    "api = twitter.Api(consumer_key='foYe2yl6efwHz9kJQiyI7vuSp',\n",
    "                  consumer_secret=\"fITQUjsbsC938lb5VQpzFaCuW6d3LXhC5e34AkCtL5xkIvj1BD\",\n",
    "                  access_token_key='1110034001052471298-Bo7P9PV9bTlzIfxDT00DvW2TB4PsB8',\n",
    "                  access_token_secret='JXh4LO37BLVqyiAhrXvwlh8riHe9EhTEnpqtAbXejz1WR')\n",
    "api.InitializeRateLimit()"
   ]
  },
  {
   "cell_type": "code",
   "execution_count": 39,
   "metadata": {},
   "outputs": [],
   "source": [
    "def twitter_search(title):    \n",
    "    ratelim = twitter.ratelimit.RateLimit()\n",
    "    remaining = ratelim.get_limit(\"https://api.twitter.com/1.1/application/rate_limit_status.json\").remaining\n",
    "    print(f'remaining = {remaining}')\n",
    "\n",
    "    if remaining <= 0:\n",
    "        print(\"failed\")\n",
    "        return False\n",
    "    \n",
    "    sub_dict = {'game_title': [], 'post_title': [], 'score': []}\n",
    "    csv = f'game_titles_twitter.csv'\n",
    "\n",
    "    # Set csv_loaded to True if csv exists since you can't evaluate the\n",
    "    # truth value of a DataFrame.\n",
    "    df, csv_loaded = (pd.read_csv(csv), 1) if isfile(csv) else ('', 0)\n",
    "\n",
    "    print(f'csv = {csv}')\n",
    "    print(f'csv_loaded = {csv_loaded}')\n",
    "    print(f'Collecting information from Twitter for search term \"{title}\".')\n",
    "    \n",
    "    try:\n",
    "        search = \"q=\" + title.replace(\" \", \"%20\")\n",
    "    except AttributeError:\n",
    "        raise\n",
    "    \n",
    "    print(search)\n",
    "    feed = api.GetSearch(raw_query=search)\n",
    "    \n",
    "    for post in feed:\n",
    "        if post.retweeted_status is not None:\n",
    "            notDuplicated = post.retweeted_status.text not in sub_dict['post_title']\n",
    "            notCopied = post.retweeted_status.text not in tuple(df.post_title) if csv_loaded else True\n",
    "            if notDuplicated and notCopied:\n",
    "                print(post.retweeted_status.favorite_count)\n",
    "                # Save any unique, non-stickied posts with descriptions to sub_dict.\n",
    "                sub_dict['game_title'].append(title)\n",
    "                sub_dict['post_title'].append(post.retweeted_status.text)\n",
    "                sub_dict['score'].append(post.retweeted_status.favorite_count)\n",
    "                sleep(0.1)\n",
    "\n",
    "    # print(sub_dict)\n",
    "    new_df = pd.DataFrame(sub_dict)\n",
    "\n",
    "    # Add new_df to df if df exists then save it to a csv.\n",
    "    if 'DataFrame' in str(type(df)):\n",
    "        pd.concat([df, new_df], axis=0, sort=0).to_csv(csv, index=False)\n",
    "        print(f'{len(new_df)} new posts collected and added to {csv}')\n",
    "    else:\n",
    "        new_df.to_csv(csv, index=False)\n",
    "        print(f'{len(new_df)} posts collected and saved to {csv}')"
   ]
  },
  {
   "cell_type": "code",
   "execution_count": 34,
   "metadata": {},
   "outputs": [
    {
     "name": "stdout",
     "output_type": "stream",
     "text": [
      "remaining = 15\n",
      "csv = game_titles_twitter.csv\n",
      "csv_loaded = 1\n",
      "Collecting information from Twitter for search term \"Overwatch\".\n",
      "q=Overwatch\n",
      "1\n",
      "1\n",
      "620\n",
      "3 new posts collected and added to game_titles_twitter.csv\n"
     ]
    }
   ],
   "source": [
    "twitter_search(\"Overwatch\")"
   ]
  },
  {
   "cell_type": "code",
   "execution_count": 5,
   "metadata": {},
   "outputs": [],
   "source": [
    "results = api.GetSearch(raw_query=\"q=twitter%20&result_type=recent&since=2014-07-19&count=100\")"
   ]
  },
  {
   "cell_type": "code",
   "execution_count": 6,
   "metadata": {},
   "outputs": [
    {
     "name": "stdout",
     "output_type": "stream",
     "text": [
      "{\"created_at\": \"Sat Mar 30 22:45:35 +0000 2019\", \"hashtags\": [], \"id\": 1112123737757941761, \"id_str\": \"1112123737757941761\", \"lang\": \"in\", \"quoted_status_id\": 1112078551518466049, \"quoted_status_id_str\": \"1112078551518466049\", \"retweet_count\": 1, \"retweeted_status\": {\"created_at\": \"Sat Mar 30 22:11:30 +0000 2019\", \"favorite_count\": 1, \"hashtags\": [], \"id\": 1112115160288804864, \"id_str\": \"1112115160288804864\", \"lang\": \"in\", \"quoted_status\": {\"created_at\": \"Sat Mar 30 19:46:02 +0000 2019\", \"favorite_count\": 246, \"hashtags\": [], \"id\": 1112078551518466049, \"id_str\": \"1112078551518466049\", \"lang\": \"en\", \"retweet_count\": 119, \"source\": \"<a href=\\\"http://twitter.com/download/iphone\\\" rel=\\\"nofollow\\\">Twitter for iPhone</a>\", \"text\": \"So I\\u2019ve finally finished the Somali horror story titled \\u2018Hooyo Macaan\\u2019. I want to thank everyone who read and suppo\\u2026 https://t.co/0KcnJVPazi\", \"truncated\": true, \"urls\": [{\"expanded_url\": \"https://twitter.com/i/web/status/1112078551518466049\", \"url\": \"https://t.co/0KcnJVPazi\"}], \"user\": {\"created_at\": \"Thu Oct 11 20:26:39 +0000 2012\", \"description\": \"\\u2018Hooyo Macaan\\u2019: https://t.co/zrkH9M5O07\", \"favourites_count\": 16307, \"followers_count\": 2640, \"friends_count\": 995, \"geo_enabled\": true, \"id\": 874278655, \"id_str\": \"874278655\", \"lang\": \"en\", \"listed_count\": 10, \"location\": \"Dhulka ilahay \", \"name\": \"24/7\", \"profile_background_color\": \"FCEBB6\", \"profile_background_image_url\": \"http://abs.twimg.com/images/themes/theme1/bg.png\", \"profile_background_image_url_https\": \"https://abs.twimg.com/images/themes/theme1/bg.png\", \"profile_background_tile\": true, \"profile_banner_url\": \"https://pbs.twimg.com/profile_banners/874278655/1548803489\", \"profile_image_url\": \"http://pbs.twimg.com/profile_images/1107082492509589507/TnbbfeQa_normal.jpg\", \"profile_image_url_https\": \"https://pbs.twimg.com/profile_images/1107082492509589507/TnbbfeQa_normal.jpg\", \"profile_link_color\": \"1B95E0\", \"profile_sidebar_border_color\": \"F0A830\", \"profile_sidebar_fill_color\": \"78C0A8\", \"profile_text_color\": \"5E412F\", \"profile_use_background_image\": true, \"screen_name\": \"twentyfourrr7\", \"statuses_count\": 15349, \"url\": \"https://t.co/OHI5GyAVEu\"}, \"user_mentions\": []}, \"quoted_status_id\": 1112078551518466049, \"quoted_status_id_str\": \"1112078551518466049\", \"retweet_count\": 1, \"source\": \"<a href=\\\"http://twitter.com/download/iphone\\\" rel=\\\"nofollow\\\">Twitter for iPhone</a>\", \"text\": \"Macalin https://t.co/p05HKjFbuj\", \"urls\": [{\"expanded_url\": \"https://twitter.com/twentyfourrr7/status/1112078551518466049\", \"url\": \"https://t.co/p05HKjFbuj\"}], \"user\": {\"created_at\": \"Sun Jan 08 22:29:30 +0000 2012\", \"favourites_count\": 8332, \"followers_count\": 508, \"friends_count\": 302, \"geo_enabled\": true, \"id\": 458753755, \"id_str\": \"458753755\", \"lang\": \"en\", \"listed_count\": 4, \"location\": \"LDN\", \"name\": \"ayuub\", \"profile_background_color\": \"131516\", \"profile_background_image_url\": \"http://abs.twimg.com/images/themes/theme14/bg.gif\", \"profile_background_image_url_https\": \"https://abs.twimg.com/images/themes/theme14/bg.gif\", \"profile_background_tile\": true, \"profile_image_url\": \"http://pbs.twimg.com/profile_images/1111740505971396613/fcQjYUQT_normal.jpg\", \"profile_image_url_https\": \"https://pbs.twimg.com/profile_images/1111740505971396613/fcQjYUQT_normal.jpg\", \"profile_link_color\": \"009999\", \"profile_sidebar_border_color\": \"EEEEEE\", \"profile_sidebar_fill_color\": \"EFEFEF\", \"profile_text_color\": \"333333\", \"profile_use_background_image\": true, \"screen_name\": \"ayuubville\", \"statuses_count\": 15044}, \"user_mentions\": []}, \"source\": \"<a href=\\\"http://twitter.com/download/iphone\\\" rel=\\\"nofollow\\\">Twitter for iPhone</a>\", \"text\": \"RT @ayuubville: Macalin https://t.co/p05HKjFbuj\", \"urls\": [{\"expanded_url\": \"https://twitter.com/twentyfourrr7/status/1112078551518466049\", \"url\": \"https://t.co/p05HKjFbuj\"}], \"user\": {\"created_at\": \"Thu Oct 11 20:26:39 +0000 2012\", \"description\": \"\\u2018Hooyo Macaan\\u2019: https://t.co/zrkH9M5O07\", \"favourites_count\": 16307, \"followers_count\": 2640, \"friends_count\": 995, \"geo_enabled\": true, \"id\": 874278655, \"id_str\": \"874278655\", \"lang\": \"en\", \"listed_count\": 10, \"location\": \"Dhulka ilahay \", \"name\": \"24/7\", \"profile_background_color\": \"FCEBB6\", \"profile_background_image_url\": \"http://abs.twimg.com/images/themes/theme1/bg.png\", \"profile_background_image_url_https\": \"https://abs.twimg.com/images/themes/theme1/bg.png\", \"profile_background_tile\": true, \"profile_banner_url\": \"https://pbs.twimg.com/profile_banners/874278655/1548803489\", \"profile_image_url\": \"http://pbs.twimg.com/profile_images/1107082492509589507/TnbbfeQa_normal.jpg\", \"profile_image_url_https\": \"https://pbs.twimg.com/profile_images/1107082492509589507/TnbbfeQa_normal.jpg\", \"profile_link_color\": \"1B95E0\", \"profile_sidebar_border_color\": \"F0A830\", \"profile_sidebar_fill_color\": \"78C0A8\", \"profile_text_color\": \"5E412F\", \"profile_use_background_image\": true, \"screen_name\": \"twentyfourrr7\", \"statuses_count\": 15349, \"url\": \"https://t.co/OHI5GyAVEu\"}, \"user_mentions\": [{\"id\": 458753755, \"id_str\": \"458753755\", \"name\": \"ayuub\", \"screen_name\": \"ayuubville\"}]}\n"
     ]
    }
   ],
   "source": [
    "result = results[0]\n",
    "print(result)"
   ]
  },
  {
   "cell_type": "code",
   "execution_count": 25,
   "metadata": {},
   "outputs": [
    {
     "data": {
      "text/plain": [
       "EndpointRateLimit(limit=15, remaining=15, reset=0)"
      ]
     },
     "execution_count": 25,
     "metadata": {},
     "output_type": "execute_result"
    }
   ],
   "source": [
    "ratelim = twitter.ratelimit.RateLimit()\n",
    "ratelim.get_limit(\"https://api.twitter.com/1.1/application/rate_limit_status.json\")"
   ]
  },
  {
   "cell_type": "code",
   "execution_count": 41,
   "metadata": {},
   "outputs": [
    {
     "name": "stderr",
     "output_type": "stream",
     "text": [
      "."
     ]
    },
    {
     "name": "stdout",
     "output_type": "stream",
     "text": [
      "remaining = 15\n",
      "csv = game_titles_twitter.csv\n",
      "csv_loaded = 1\n",
      "Collecting information from Twitter for search term \"123\".\n",
      "remaining = 15\n",
      "csv = game_titles_twitter.csv\n",
      "csv_loaded = 1\n",
      "Collecting information from Twitter for search term \"Overwatch\".\n",
      "q=Overwatch\n",
      "0\n"
     ]
    },
    {
     "name": "stderr",
     "output_type": "stream",
     "text": [
      "."
     ]
    },
    {
     "name": "stdout",
     "output_type": "stream",
     "text": [
      "2\n",
      "2 new posts collected and added to game_titles_twitter.csv\n"
     ]
    },
    {
     "name": "stderr",
     "output_type": "stream",
     "text": [
      "\n",
      "----------------------------------------------------------------------\n",
      "Ran 2 tests in 0.370s\n",
      "\n",
      "OK\n"
     ]
    }
   ],
   "source": [
    "import unittest\n",
    "import os\n",
    "\n",
    "class TestTwitterMethods(unittest.TestCase):\n",
    "\n",
    "    def test_bad_input(self):\n",
    "        self.assertRaises(AttributeError, twitter_search, 123)\n",
    "        \n",
    "    def test_good_input(self):\n",
    "        twitter_search(\"Overwatch\")\n",
    "        self.assertTrue(os.path.isfile('./game_titles_twitter.csv'))\n",
    " \n",
    "\n",
    "if __name__ == '__main__':\n",
    "    unittest.main(argv=['first-arg-is-ignored'], exit=False)"
   ]
  }
 ],
 "metadata": {
  "kernelspec": {
   "display_name": "Python 3",
   "language": "python",
   "name": "python3"
  },
  "language_info": {
   "codemirror_mode": {
    "name": "ipython",
    "version": 3
   },
   "file_extension": ".py",
   "mimetype": "text/x-python",
   "name": "python",
   "nbconvert_exporter": "python",
   "pygments_lexer": "ipython3",
   "version": "3.7.1"
  }
 },
 "nbformat": 4,
 "nbformat_minor": 2
}

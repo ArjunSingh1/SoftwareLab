{
 "cells": [
  {
   "cell_type": "markdown",
   "metadata": {},
   "source": [
    "# Refactored and Redesigned Scraper"
   ]
  },
  {
   "cell_type": "markdown",
   "metadata": {},
   "source": [
    "## Scraper Super Class"
   ]
  },
  {
   "cell_type": "code",
   "execution_count": 1,
   "metadata": {},
   "outputs": [],
   "source": [
    "import praw\n",
    "import twitter\n",
    "from os.path import isfile\n",
    "import pandas as pd\n",
    "from time import sleep\n",
    "\n",
    "\n",
    "class Scraper:\n",
    "    def __init__(self, query, csv, sort=None):\n",
    "        self.query = query\n",
    "        self.csv = csv\n",
    "        self.sort = sort\n",
    "        self.check_query_valid()\n",
    "        self.get_posts()\n",
    "        self.save_posts()\n",
    "        \n",
    "        \n",
    "    def check_query_valid(self):\n",
    "        if not isinstance(self.query, str):\n",
    "            try:\n",
    "                self.query = self.query.replace(\" \", \"%20\")\n",
    "            except AttributeError:\n",
    "                raise\n",
    "    \n",
    "    \n",
    "    def set_sort(self):\n",
    "        raise NotImplementedException\n",
    "        \n",
    "        \n",
    "    def parse_post(self, post):\n",
    "        raise NotImplementedException\n",
    "        \n",
    "        \n",
    "    def get_posts(self):\n",
    "        self.sub_dict = {'game_title': [], 'post_title': [], 'id':[], 'score': []}\n",
    "        csv = self.csv\n",
    "        self.df, self.csv_loaded = (pd.read_csv(csv), 1) if isfile(csv) else ('', 0)\n",
    "        print(self.query)\n",
    "        feed = self.set_sort()\n",
    "        for post in feed:\n",
    "            self.parse_post(post)\n",
    "          \n",
    "        \n",
    "    def save_posts(self):\n",
    "        new_df = pd.DataFrame(self.sub_dict)\n",
    "\n",
    "        # Add new_df to df if df exists then save it to a csv.\n",
    "        if 'DataFrame' in str(type(self.df)):\n",
    "            pd.concat([self.df, new_df], axis=0, sort=0).to_csv(self.csv, index=False)\n",
    "            print(f'{len(new_df)} new posts collected and added to {self.csv}')\n",
    "        else:\n",
    "            new_df.to_csv(self.csv, index=False)\n",
    "            print(f'{len(new_df)} posts collected and saved to {self.csv}')"
   ]
  },
  {
   "cell_type": "markdown",
   "metadata": {},
   "source": [
    "## Subreddit Scraper Subclass"
   ]
  },
  {
   "cell_type": "code",
   "execution_count": 2,
   "metadata": {},
   "outputs": [],
   "source": [
    "# Use your own tokens\n",
    "\n",
    "class SubredditScraper(Scraper):\n",
    "    def __init__(self, query,csv=f'game_titles.csv', sort='new'):\n",
    "        self.scraper = praw.Reddit(\n",
    "            client_id=\"tpkjzcHMAynTvw\",\n",
    "            client_secret=\"WdtCdrgnWMfZphmCgkl_fVFH-uA\",\n",
    "            user_agent=\"scraper\",\n",
    "            username=\"Whatchamacalit1\",\n",
    "            password=\"YEET\"\n",
    "        )\n",
    "        Scraper.__init__(self, query, csv, sort)\n",
    "\n",
    "        \n",
    "    def set_sort(self):\n",
    "        if self.sort == 'new':\n",
    "            return self.scraper.subreddit('all').search(self.query, sort='new', time_filter='month')\n",
    "        elif self.sort == 'top':\n",
    "            return self.scraper.subreddit('all').search(self.query, sort='top', time_filter='month')\n",
    "        elif self.sort == 'hot':\n",
    "            return self.scraper.subreddit('all').search(self.query, sort='hot', time_filter='month')\n",
    "        else:\n",
    "            self.sort = 'relevance'\n",
    "            print('Sort method was not recognized, defaulting to relevance.')\n",
    "            return self.scraper.subreddit('all').search(self.query, time_filter='month')\n",
    "\n",
    "        \n",
    "    def parse_post(self, post):\n",
    "        unique_id = post.id not in tuple(self.df.id) if self.csv_loaded else True\n",
    "\n",
    "        # Save any unique, non-stickied posts with descriptions to sub_dict.\n",
    "        if unique_id:\n",
    "            self.sub_dict['game_title'].append(self.query)\n",
    "            self.sub_dict['post_title'].append(post.title)\n",
    "            self.sub_dict['id'].append(post.id)\n",
    "            self.sub_dict['score'].append(post.score)\n",
    "        sleep(0.1)"
   ]
  },
  {
   "cell_type": "markdown",
   "metadata": {},
   "source": [
    "## Twitter Scraper Subclass"
   ]
  },
  {
   "cell_type": "code",
   "execution_count": 3,
   "metadata": {},
   "outputs": [],
   "source": [
    "# Use your own tokens\n",
    "\n",
    "class TwitterScraper(Scraper):\n",
    "    def __init__(self, query,csv=f'game_titles_twitter.csv', sort='mixed'):\n",
    "        self.scraper = twitter.Api(consumer_key='foYe2yl6efwHz9kJQiyI7vuSp',\n",
    "                                   consumer_secret=\"fITQUjsbsC938lb5VQpzFaCuW6d3LXhC5e34AkCtL5xkIvj1BD\",\n",
    "                                   access_token_key='1110034001052471298-Bo7P9PV9bTlzIfxDT00DvW2TB4PsB8',\n",
    "                                   access_token_secret='JXh4LO37BLVqyiAhrXvwlh8riHe9EhTEnpqtAbXejz1WR'\n",
    "                                  )\n",
    "        Scraper.__init__(self, query, csv, sort)\n",
    "        \n",
    "\n",
    "    def set_sort(self):\n",
    "        ratelim = twitter.ratelimit.RateLimit()\n",
    "        remaining = ratelim.get_limit(\"https://api.twitter.com/1.1/application/rate_limit_status.json\").remaining\n",
    "        if remaining <= 0:\n",
    "            print(\"Exceeded Rate Limit\")\n",
    "            raise Error\n",
    "\n",
    "        search = \"q=\" + self.query\n",
    "        return self.scraper.GetSearch(raw_query=search)\n",
    "\n",
    "        \n",
    "    def parse_post(self, post):\n",
    "        if post.retweeted_status is not None:\n",
    "            notCopied = post.retweeted_status.text not in tuple(self.df.post_title) if self.csv_loaded else True\n",
    "            if notCopied:\n",
    "                print(post.retweeted_status.favorite_count)\n",
    "                # Save any unique, non-stickied posts with descriptions to sub_dict.\n",
    "                self.sub_dict['game_title'].append(self.query)\n",
    "                self.sub_dict['post_title'].append(post.retweeted_status.text)\n",
    "                self.sub_dict['id'].append('')\n",
    "                self.sub_dict['score'].append(post.retweeted_status.favorite_count)"
   ]
  },
  {
   "cell_type": "markdown",
   "metadata": {},
   "source": [
    "## Tests"
   ]
  },
  {
   "cell_type": "code",
   "execution_count": 4,
   "metadata": {},
   "outputs": [
    {
     "name": "stderr",
     "output_type": "stream",
     "text": [
      ".."
     ]
    },
    {
     "name": "stdout",
     "output_type": "stream",
     "text": [
      "Over Watch\n",
      "0 new posts collected and added to game_titles.csv\n",
      "Over Watch\n"
     ]
    },
    {
     "name": "stderr",
     "output_type": "stream",
     "text": [
      "."
     ]
    },
    {
     "name": "stdout",
     "output_type": "stream",
     "text": [
      "Over Watch\n"
     ]
    },
    {
     "name": "stderr",
     "output_type": "stream",
     "text": [
      "C:\\Users\\singh\\Anaconda3\\lib\\site-packages\\ipykernel_launcher.py:16: ResourceWarning: unclosed <socket.socket fd=1660, family=AddressFamily.AF_INET, type=SocketKind.SOCK_STREAM, proto=0, laddr=('10.145.4.55', 55921), raddr=('104.244.42.2', 443)>\n",
      "  app.launch_new_instance()\n",
      "."
     ]
    },
    {
     "name": "stdout",
     "output_type": "stream",
     "text": [
      "11003\n",
      "4\n",
      "11003\n",
      "76\n",
      "97\n",
      "0\n",
      "6 posts collected and saved to game_titles_twitter.csv\n",
      "Over Watch\n",
      "97\n"
     ]
    },
    {
     "name": "stderr",
     "output_type": "stream",
     "text": [
      "\n",
      "----------------------------------------------------------------------\n",
      "Ran 4 tests in 26.169s\n",
      "\n",
      "OK\n"
     ]
    }
   ],
   "source": [
    "import unittest\n",
    "import os\n",
    "\n",
    "class TestScrapingMethods(unittest.TestCase):\n",
    "    def test_bad_input_reddit(self):\n",
    "        self.assertRaises(AttributeError, SubredditScraper, query=123, sort='new')\n",
    "        \n",
    "    def test_good_input_reddit(self):\n",
    "        SubredditScraper(query='Over Watch', sort='new').get_posts()\n",
    "        self.assertTrue(os.path.isfile('./game_titles.csv'))\n",
    " \n",
    "    def test_bad_input_twitter(self):\n",
    "        self.assertRaises(AttributeError, TwitterScraper, query=123, sort='new')\n",
    "        \n",
    "    def test_good_input_twitter(self):\n",
    "        TwitterScraper(query='Over Watch',sort='new').get_posts()\n",
    "        self.assertTrue(os.path.isfile('./game_titles_twitter.csv'))\n",
    " \n",
    "\n",
    "if __name__ == '__main__':\n",
    "    unittest.main(argv=['first-arg-is-ignored'], exit=False)"
   ]
  }
 ],
 "metadata": {
  "kernelspec": {
   "display_name": "Python 3",
   "language": "python",
   "name": "python3"
  },
  "language_info": {
   "codemirror_mode": {
    "name": "ipython",
    "version": 3
   },
   "file_extension": ".py",
   "mimetype": "text/x-python",
   "name": "python",
   "nbconvert_exporter": "python",
   "pygments_lexer": "ipython3",
   "version": "3.7.1"
  }
 },
 "nbformat": 4,
 "nbformat_minor": 2
}
